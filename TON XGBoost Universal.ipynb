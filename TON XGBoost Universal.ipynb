{
 "cells": [
  {
   "cell_type": "code",
   "execution_count": null,
   "id": "6552b627",
   "metadata": {},
   "outputs": [],
   "source": [
    "#this function will input preprocessed encoded, complete, fully numeric data and send through an XGBoost\n",
    "\n",
    "#for more information on XGBoost and overtuning\n",
    "#https://machinelearningmastery.com/tune-learning-rate-for-gradient-boosting-with-xgboost-in-python/"
   ]
  },
  {
   "cell_type": "code",
   "execution_count": 1,
   "id": "a7dca675",
   "metadata": {},
   "outputs": [],
   "source": [
    "#import libraries\n",
    "import time\n",
    "import os\n",
    "\n",
    "import numpy as np\n",
    "from numpy.random import randn\n",
    "import pandas as pd\n",
    "\n",
    "import math\n",
    "from math import sqrt\n",
    "import statistics as stat\n",
    "\n",
    "import matplotlib.pyplot as plt\n",
    "from matplotlib import pyplot\n",
    "import seaborn as sns\n",
    "\n",
    "import sklearn.preprocessing\n",
    "from sklearn.preprocessing import StandardScaler, MinMaxScaler\n",
    "from sklearn.model_selection import train_test_split\n",
    "from sklearn import metrics\n",
    "from sklearn.metrics import accuracy_score, precision_score, f1_score, recall_score\n",
    "from sklearn.metrics import multilabel_confusion_matrix, balanced_accuracy_score\n",
    "from sklearn.metrics import classification_report, mean_squared_error, confusion_matrix\n",
    "\n",
    "import xgboost as xgb\n",
    "from xgboost import XGBClassifier"
   ]
  },
  {
   "cell_type": "code",
   "execution_count": 4,
   "id": "2e74a61f",
   "metadata": {},
   "outputs": [],
   "source": [
    "#import the file, you may have to import the location too\n",
    "data = pd.read_csv('/media/titan/Storage 6/00_Datasets/IoT_datasets/TON-IoT/TON_processed.csv')\n",
    "\n",
    "X = data.drop(['type'], axis = 1)     #X are the features\n",
    "y = data['type']                      #y is the label"
   ]
  },
  {
   "cell_type": "code",
   "execution_count": 6,
   "id": "b4c2f90d",
   "metadata": {},
   "outputs": [],
   "source": [
    "#we will compare this with the 75/25, 65/35 split as well\n",
    "tsz = 0.35\n",
    "\n",
    "#split the data  \n",
    "X_train, X_test, y_train, y_test = train_test_split(X, y, test_size=tsz, shuffle=True)\n",
    "\n",
    "#set up for the parameters num_class\n",
    "l = len(data['type'].unique())    \n",
    "\n",
    "#normalize the data\n",
    "sc = MinMaxScaler()\n",
    "X_train = sc.fit_transform(X_train)\n",
    "X_test = sc.fit_transform(X_test)\n",
    "    \n",
    "startTime = time.time()\n",
    "#transform numpy array into DMatrix format for xgboost\n",
    "train = xgb.DMatrix(X_train, label = y_train)\n",
    "test = xgb.DMatrix(X_test, label = y_test)\n",
    "\n",
    "#parameters\n",
    "param = {\n",
    "    'max_depth':6,\n",
    "    'eta': 0.35,\n",
    "    'objective': 'multi:softmax',\n",
    "    'num_class': l,\n",
    "    'eval_metric': 'merror'}\n",
    "    \n",
    "epochs = 50\n",
    "\n",
    "#train the model\n",
    "model = xgb.train(param, train, epochs)\n",
    "\n",
    "#make predictions\n",
    "predictions = model.predict(test)\n",
    "\n",
    "#time() returns the time as a floating point number expressed in seconds since the epoch, in UTC.\n",
    "executionTime = (time.time() - startTime)"
   ]
  },
  {
   "cell_type": "code",
   "execution_count": 7,
   "id": "23c8b8e2",
   "metadata": {},
   "outputs": [
    {
     "name": "stderr",
     "output_type": "stream",
     "text": [
      "/home/titan/anaconda3/envs/py39/lib/python3.9/site-packages/sklearn/metrics/_classification.py:1245: UndefinedMetricWarning: Precision is ill-defined and being set to 0.0 in labels with no predicted samples. Use `zero_division` parameter to control this behavior.\n",
      "  _warn_prf(average, modifier, msg_start, len(result))\n"
     ]
    }
   ],
   "source": [
    "#metrics\n",
    "precision = precision_score(y_test, predictions, average= 'macro')\n",
    "bal_accuracy = balanced_accuracy_score(y_test, predictions)\n",
    "f1 = f1_score(y_test, predictions, average= 'macro')\n",
    "recall = recall_score(y_test, predictions, average= 'macro')\n",
    "MeanSq = sqrt(mean_squared_error(y_test, predictions))\n",
    "\n",
    "#https://scikit-learn.org/stable/modules/model_evaluation.html#multiclass-and-multilabel-classification\n",
    "\n",
    "#\"macro\" simply calculates the mean of the binary metrics, giving equal weight to each class. \n",
    "#In problems where infrequent classes are nonetheless important, macro-averaging may be a means\n",
    "#of highlighting their performance. On the other hand, the assumption that all classes are equally\n",
    "#important is often untrue, such that macro-averaging will over-emphasize the typically low performance\n",
    "#on an infrequent class\n",
    "\n",
    "\n",
    "#the balanced accuracy, which avoids inflated performance estimates on imbalanced datasets. \n",
    "#It is the macro-average of recall scores per class or, equivalently, raw accuracy where each \n",
    "#sample is weighted according to the inverse prevalence of its true class. \n",
    "#Thus for balanced datasets, the score is equal to accuracy."
   ]
  },
  {
   "cell_type": "code",
   "execution_count": 8,
   "id": "e42e4ef5",
   "metadata": {},
   "outputs": [
    {
     "name": "stdout",
     "output_type": "stream",
     "text": [
      "Execution time in seconds:  197.48071193695068\n",
      "Precision:  50.36679808608119\n",
      "Balanced Accuracy:  13.164860479197962\n",
      "F1:  12.843369717569963\n",
      "Recall:  13.164860479197962\n",
      "RMSE:  1.0582654622619387\n"
     ]
    }
   ],
   "source": [
    "#prints the metrics\n",
    "print('Execution time in seconds: ', executionTime)\n",
    "\n",
    "#average scores\n",
    "print('Precision: ', precision * 100.00)\n",
    "print('Balanced Accuracy: ', bal_accuracy * 100.00)\n",
    "print('F1: ', f1 * 100.00)\n",
    "print('Recall: ', recall * 100.00)\n",
    "print('RMSE: ', MeanSq)"
   ]
  },
  {
   "cell_type": "code",
   "execution_count": 9,
   "id": "1a5d1913",
   "metadata": {},
   "outputs": [
    {
     "name": "stderr",
     "output_type": "stream",
     "text": [
      "/home/titan/anaconda3/envs/py39/lib/python3.9/site-packages/sklearn/metrics/_classification.py:1245: UndefinedMetricWarning: Precision and F-score are ill-defined and being set to 0.0 in labels with no predicted samples. Use `zero_division` parameter to control this behavior.\n",
      "  _warn_prf(average, modifier, msg_start, len(result))\n",
      "/home/titan/anaconda3/envs/py39/lib/python3.9/site-packages/sklearn/metrics/_classification.py:1245: UndefinedMetricWarning: Precision and F-score are ill-defined and being set to 0.0 in labels with no predicted samples. Use `zero_division` parameter to control this behavior.\n",
      "  _warn_prf(average, modifier, msg_start, len(result))\n"
     ]
    },
    {
     "name": "stdout",
     "output_type": "stream",
     "text": [
      "              precision    recall  f1-score   support\n",
      "\n",
      "           0     0.8566    0.9996    0.9226   1063518\n",
      "           1     0.7936    0.0207    0.0404     85728\n",
      "           2     0.0000    0.0000    0.0000     18832\n",
      "           3     0.8739    0.0169    0.0332     17597\n",
      "           4     0.8386    0.0155    0.0305     49802\n",
      "           5     0.6667    0.0004    0.0007      5588\n",
      "           6     0.0000    0.0000    0.0000      1356\n",
      "           7     0.0000    0.0000    0.0000      2132\n",
      "\n",
      "    accuracy                         0.8565   1244553\n",
      "   macro avg     0.5037    0.1316    0.1284   1244553\n",
      "weighted avg     0.8356    0.8565    0.7929   1244553\n",
      "\n"
     ]
    },
    {
     "name": "stderr",
     "output_type": "stream",
     "text": [
      "/home/titan/anaconda3/envs/py39/lib/python3.9/site-packages/sklearn/metrics/_classification.py:1245: UndefinedMetricWarning: Precision and F-score are ill-defined and being set to 0.0 in labels with no predicted samples. Use `zero_division` parameter to control this behavior.\n",
      "  _warn_prf(average, modifier, msg_start, len(result))\n"
     ]
    }
   ],
   "source": [
    "print(classification_report(y_test, predictions, digits=4))"
   ]
  },
  {
   "cell_type": "code",
   "execution_count": 10,
   "id": "a44f53c8",
   "metadata": {},
   "outputs": [
    {
     "data": {
      "text/plain": [
       "<AxesSubplot:>"
      ]
     },
     "execution_count": 10,
     "metadata": {},
     "output_type": "execute_result"
    },
    {
     "data": {
      "image/png": "[encoded data removed]",
      "text/plain": [
       "<Figure size 432x288 with 2 Axes>"
      ]
     },
     "metadata": {
      "needs_background": "light"
     },
     "output_type": "display_data"
    }
   ],
   "source": [
    "cm=confusion_matrix(y_test,predictions, normalize='all')\n",
    "sns.heatmap(cm, annot=True)"
   ]
  },
  {
   "cell_type": "code",
   "execution_count": null,
   "id": "0e0188c1",
   "metadata": {},
   "outputs": [],
   "source": []
  }
 ],
 "metadata": {
  "kernelspec": {
   "display_name": "Python 3",
   "language": "python",
   "name": "python3"
  },
  "language_info": {
   "codemirror_mode": {
    "name": "ipython",
    "version": 3
   },
   "file_extension": ".py",
   "mimetype": "text/x-python",
   "name": "python",
   "nbconvert_exporter": "python",
   "pygments_lexer": "ipython3",
   "version": "3.9.4"
  }
 },
 "nbformat": 4,
 "nbformat_minor": 5
}
