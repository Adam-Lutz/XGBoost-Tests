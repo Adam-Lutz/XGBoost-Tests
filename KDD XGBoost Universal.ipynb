{
 "cells": [
  {
   "cell_type": "code",
   "execution_count": 1,
   "id": "6552b627",
   "metadata": {},
   "outputs": [],
   "source": [
    "#this function will input preprocessed encoded, complete, fully numeric data and send through an XGBoost\n",
    "\n",
    "#for more information on XGBoost and overtuning\n",
    "#https://machinelearningmastery.com/tune-learning-rate-for-gradient-boosting-with-xgboost-in-python/"
   ]
  },
  {
   "cell_type": "code",
   "execution_count": 2,
   "id": "a7dca675",
   "metadata": {},
   "outputs": [],
   "source": [
    "#import libraries\n",
    "import time\n",
    "import os\n",
    "\n",
    "import numpy as np\n",
    "from numpy.random import randn\n",
    "import pandas as pd\n",
    "\n",
    "import math\n",
    "from math import sqrt\n",
    "import statistics as stat\n",
    "\n",
    "import matplotlib.pyplot as plt\n",
    "from matplotlib import pyplot\n",
    "import seaborn as sns\n",
    "\n",
    "import sklearn.preprocessing\n",
    "from sklearn.preprocessing import StandardScaler, MinMaxScaler\n",
    "from sklearn.model_selection import train_test_split\n",
    "from sklearn import metrics\n",
    "from sklearn.metrics import accuracy_score, precision_score, f1_score, recall_score\n",
    "from sklearn.metrics import multilabel_confusion_matrix, balanced_accuracy_score\n",
    "from sklearn.metrics import classification_report, mean_squared_error, confusion_matrix\n",
    "\n",
    "import xgboost as xgb\n",
    "from xgboost import XGBClassifier"
   ]
  },
  {
   "cell_type": "code",
   "execution_count": 3,
   "id": "2e74a61f",
   "metadata": {},
   "outputs": [],
   "source": [
    "#import the file, you may have to import the location too\n",
    "data = pd.read_csv('/media/titan/Storage 6/00_Datasets/IoT_datasets/KDD/KDD_Preproc.csv')\n",
    "X = data.drop(['label'], axis = 1)     #X are the features\n",
    "y = data['label']                      #y is the label"
   ]
  },
  {
   "cell_type": "code",
   "execution_count": 4,
   "id": "b4c2f90d",
   "metadata": {},
   "outputs": [],
   "source": [
    "#we will compare this with the 75/25, 65/35 split as well\n",
    "tsz = 0.35\n",
    "\n",
    "#split the data  \n",
    "X_train, X_test, y_train, y_test = train_test_split(X, y, test_size=tsz, shuffle=True)\n",
    "\n",
    "#set up for the parameters num_class\n",
    "l = len(data['label'].unique())    \n",
    "\n",
    "#normalize the data\n",
    "sc = MinMaxScaler()\n",
    "X_train = sc.fit_transform(X_train)\n",
    "X_test = sc.fit_transform(X_test)\n",
    "    \n",
    "startTime = time.time()\n",
    "#transform numpy array into DMatrix format for xgboost\n",
    "train = xgb.DMatrix(X_train, label = y_train)\n",
    "test = xgb.DMatrix(X_test, label = y_test)\n",
    "\n",
    "#parameters\n",
    "param = {\n",
    "    'max_depth':6,\n",
    "    'eta': 0.35,\n",
    "    'objective': 'multi:softmax',\n",
    "    'num_class': l,\n",
    "    'eval_metric': 'merror'}\n",
    "    \n",
    "epochs = 100\n",
    "\n",
    "#train the model\n",
    "model = xgb.train(param, train, epochs)\n",
    "\n",
    "#make predictions\n",
    "predictions = model.predict(test)\n",
    "\n",
    "#time() returns the time as a floating point number expressed in seconds since the epoch, in UTC.\n",
    "executionTime = (time.time() - startTime)"
   ]
  },
  {
   "cell_type": "code",
   "execution_count": 5,
   "id": "23c8b8e2",
   "metadata": {},
   "outputs": [],
   "source": [
    "#metrics\n",
    "precision = precision_score(y_test, predictions, average= 'macro')\n",
    "bal_accuracy = balanced_accuracy_score(y_test, predictions)\n",
    "f1 = f1_score(y_test, predictions, average= 'macro')\n",
    "recall = recall_score(y_test, predictions, average= 'macro')\n",
    "MeanSq = sqrt(mean_squared_error(y_test, predictions))\n",
    "\n",
    "#https://scikit-learn.org/stable/modules/model_evaluation.html#multiclass-and-multilabel-classification\n",
    "\n",
    "#\"macro\" simply calculates the mean of the binary metrics, giving equal weight to each class. \n",
    "#In problems where infrequent classes are nonetheless important, macro-averaging may be a means\n",
    "#of highlighting their performance. On the other hand, the assumption that all classes are equally\n",
    "#important is often untrue, such that macro-averaging will over-emphasize the typically low performance\n",
    "#on an infrequent class\n",
    "\n",
    "\n",
    "#the balanced accuracy, which avoids inflated performance estimates on imbalanced datasets. \n",
    "#It is the macro-average of recall scores per class or, equivalently, raw accuracy where each \n",
    "#sample is weighted according to the inverse prevalence of its true class. \n",
    "#Thus for balanced datasets, the score is equal to accuracy."
   ]
  },
  {
   "cell_type": "code",
   "execution_count": 6,
   "id": "e42e4ef5",
   "metadata": {},
   "outputs": [
    {
     "name": "stdout",
     "output_type": "stream",
     "text": [
      "Execution time in seconds:  13.793681859970093\n",
      "Precision:  86.62354678246439\n",
      "Balanced Accuracy:  82.01371598887326\n",
      "F1:  83.3660534987215\n",
      "Recall:  82.01371598887326\n",
      "RMSE:  0.3618790281539786\n"
     ]
    }
   ],
   "source": [
    "#prints the metrics\n",
    "print('Execution time in seconds: ', executionTime)\n",
    "\n",
    "#average scores\n",
    "print('Precision: ', precision * 100.00)\n",
    "print('Balanced Accuracy: ', bal_accuracy * 100.00)\n",
    "print('F1: ', f1 * 100.00)\n",
    "print('Recall: ', recall * 100.00)\n",
    "print('RMSE: ', MeanSq)"
   ]
  },
  {
   "cell_type": "code",
   "execution_count": 7,
   "id": "1a5d1913",
   "metadata": {},
   "outputs": [
    {
     "name": "stdout",
     "output_type": "stream",
     "text": [
      "              precision    recall  f1-score   support\n",
      "\n",
      "           0     0.9941    0.9970    0.9955       336\n",
      "           1     1.0000    0.5000    0.6667         8\n",
      "           2     1.0000    0.5000    0.6667         2\n",
      "           3     1.0000    1.0000    1.0000        16\n",
      "           4     1.0000    1.0000    1.0000         4\n",
      "           5     0.9749    0.9540    0.9644      1262\n",
      "           6     0.8000    0.6667    0.7273         6\n",
      "           7     0.3333    0.5000    0.4000         2\n",
      "           8     0.0000    0.0000    0.0000         3\n",
      "           9     0.9999    1.0000    1.0000     14404\n",
      "          10     0.8920    0.9504    0.9203       504\n",
      "          11     0.9994    0.9995    0.9994     23690\n",
      "          14     0.9531    0.9683    0.9606        63\n",
      "          15     1.0000    0.9981    0.9990      1029\n",
      "          16     0.7500    0.7500    0.7500         4\n",
      "          17     0.9912    0.9952    0.9932      1241\n",
      "          18     0.9989    0.9955    0.9972       896\n",
      "          20     0.9966    0.9900    0.9933       299\n",
      "          21     0.9746    0.9715    0.9731       316\n",
      "          22     0.6667    0.6667    0.6667         6\n",
      "\n",
      "    accuracy                         0.9969     44091\n",
      "   macro avg     0.8662    0.8201    0.8337     44091\n",
      "weighted avg     0.9969    0.9969    0.9969     44091\n",
      "\n"
     ]
    }
   ],
   "source": [
    "print(classification_report(y_test, predictions, digits=4))"
   ]
  },
  {
   "cell_type": "code",
   "execution_count": 8,
   "id": "a44f53c8",
   "metadata": {},
   "outputs": [
    {
     "data": {
      "text/plain": [
       "<AxesSubplot:>"
      ]
     },
     "execution_count": 8,
     "metadata": {},
     "output_type": "execute_result"
    },
    {
     "data": {
      "image/png": "[encoded data removed]",
      "text/plain": [
       "<Figure size 432x288 with 2 Axes>"
      ]
     },
     "metadata": {
      "needs_background": "light"
     },
     "output_type": "display_data"
    }
   ],
   "source": [
    "cm=confusion_matrix(y_test,predictions, normalize='all')\n",
    "sns.heatmap(cm, annot=True)"
   ]
  },
  {
   "cell_type": "code",
   "execution_count": null,
   "id": "0e0188c1",
   "metadata": {},
   "outputs": [],
   "source": []
  }
 ],
 "metadata": {
  "kernelspec": {
   "display_name": "Python 3",
   "language": "python",
   "name": "python3"
  },
  "language_info": {
   "codemirror_mode": {
    "name": "ipython",
    "version": 3
   },
   "file_extension": ".py",
   "mimetype": "text/x-python",
   "name": "python",
   "nbconvert_exporter": "python",
   "pygments_lexer": "ipython3",
   "version": "3.9.4"
  }
 },
 "nbformat": 4,
 "nbformat_minor": 5
}
